{
 "cells": [
  {
   "cell_type": "code",
   "execution_count": 1,
   "id": "63d0bf75",
   "metadata": {},
   "outputs": [],
   "source": [
    "from ultralytics import YOLO\n",
    "import numpy as np\n",
    "from PIL import Image\n",
    "import cv2\n",
    "import colorsys\n",
    "import random\n",
    "import pandas as pd"
   ]
  },
  {
   "cell_type": "code",
   "execution_count": 3,
   "id": "1a94859c",
   "metadata": {},
   "outputs": [],
   "source": [
    "model = YOLO(\"/pfs/proj/nobackup/fs/projnb10/hpc2n2023-022/Yolo8-segmentation/runs/segment/train_x 643/weights/best.pt\")  # load a custom model\n",
    "\n",
    "img = cv2.imread(\"/pfs/stor10/users/home/s/sqbqamar/Public/Fiber_99_tiles/JPG/TileScan 1 Merged.jpg\")"
   ]
  },
  {
   "cell_type": "code",
   "execution_count": 4,
   "id": "8d5b8061",
   "metadata": {},
   "outputs": [],
   "source": [
    "def detect(model, img):\n",
    "        # Get img shape\n",
    "    height, width, channels = img.shape\n",
    "    results = model.predict(source=img.copy(), imgsz=6000, save=False, iou=0.8, conf=0.6, save_txt=False)\n",
    "    result = results[0]\n",
    "    segmentation_contours_idx = []\n",
    "    for seg in result.masks.segments:\n",
    "            # contours\n",
    "        seg[:, 0] *= width\n",
    "        seg[:, 1] *= height\n",
    "        segment = np.array(seg, dtype=np.int32)\n",
    "        segmentation_contours_idx.append(segment)\n",
    "\n",
    "    bboxes = np.array(result.boxes.xyxy.cpu(), dtype=\"int\")\n",
    "        # Get class ids\n",
    "    class_ids = np.array(result.boxes.cls.cpu(), dtype=\"int\")\n",
    "        # Get scores\n",
    "    scores = np.array(result.boxes.conf.cpu(), dtype=\"float\").round(2)\n",
    "    #print(class_ids)\n",
    "    return bboxes, class_ids, segmentation_contours_idx, scores"
   ]
  },
  {
   "cell_type": "code",
   "execution_count": 5,
   "id": "e16b9b63",
   "metadata": {},
   "outputs": [],
   "source": [
    "def draw_mask(img, pts, color, alpha=0.5):\n",
    "    h, w, _ = img.shape\n",
    "\n",
    "    overlay = img.copy()\n",
    "    output = img.copy()\n",
    "\n",
    "    cv2.fillPoly(overlay, pts, color)\n",
    "    output = cv2.addWeighted(overlay, alpha, output, 1 - alpha,\n",
    "                    0, output)\n",
    "    return output"
   ]
  },
  {
   "cell_type": "code",
   "execution_count": 6,
   "id": "9d049dba",
   "metadata": {},
   "outputs": [],
   "source": [
    "def random_colors(N, bright=True):\n",
    "    \"\"\"\n",
    "    Generate random colors.\n",
    "    To get visually distinct colors, generate them in HSV space then\n",
    "    convert to RGB.\n",
    "    \"\"\"\n",
    "    brightness = 255 if bright else 180\n",
    "    hsv = [(i / N + 1, 1, brightness) for i in range(N + 1)]\n",
    "    colors = list(map(lambda c: colorsys.hsv_to_rgb(*c), hsv))\n",
    "    random.shuffle(colors)\n",
    "    return colors "
   ]
  },
  {
   "cell_type": "code",
   "execution_count": 7,
   "id": "7d57ffa9",
   "metadata": {},
   "outputs": [],
   "source": [
    "class_names = ['Fibre', 'Vessel']\n",
    "colors = random_colors(len(class_names))\n",
    "list2=[]"
   ]
  },
  {
   "cell_type": "code",
   "execution_count": null,
   "id": "1e636aaf",
   "metadata": {},
   "outputs": [
    {
     "name": "stderr",
     "output_type": "stream",
     "text": [
      "\n",
      "WARNING ⚠️ imgsz=[6000] must be multiple of max stride 32, updating to [6016]\n"
     ]
    }
   ],
   "source": [
    "bboxes, classes, segmentations, scores = detect(model, img)\n",
    "for bbox, class_id, seg, score in zip(bboxes, classes, segmentations, scores):\n",
    "    # print(\"bbox:\", bbox, \"class id:\", class_id, \"seg:\", seg, \"score:\", score)\n",
    "    (x, y, x2, y2) = bbox\n",
    "    rect = cv2.minAreaRect(seg)\n",
    "    box1 = cv2.boxPoints(rect)\n",
    "    box1 = np.int0(box1)\n",
    "    #print(box1)\n",
    "    a,b,c,d=box1\n",
    "    dst1= ((a[0] - b[0])**2 + (a[1] - b[1])**2)**0.5\n",
    "    dst2 = ((b[0] - c[0])**2 + (b[1] - c[1])**2)**0.5\n",
    "    dst1 = dst1 * 0.65\n",
    "    dst2 = dst2 * 0.65\n",
    "    if dst1 > dst2:\n",
    "      Length = dst1\n",
    "    else:\n",
    "      Length = dst2\n",
    "    area_px = cv2.contourArea(seg)\n",
    "    area_px = area_px * 0.65\n",
    "    Width = round(area_px/Length, 2)\n",
    "    list1 = class_names[class_id], Length, Width, area_px\n",
    "    list2.append(list1)\n",
    "    \n",
    "    #cv2.drawContours(img, [box1], 0, (0, 0, 255), 2)\n",
    "    img = draw_mask(img, [seg], colors[class_id])\n",
    "    #cv2.rectangle(img, (a, b), (c, d), (255, 0, 0), 2)\n",
    "    cv2.drawContours(img,[box1],0,(255,0,0),2)"
   ]
  },
  {
   "cell_type": "code",
   "execution_count": null,
   "id": "8179c09a",
   "metadata": {},
   "outputs": [],
   "source": [
    "cv2.imwrite(\"/pfs/stor10/users/home/s/sqbqamar/Public/runs/segment/predict/Predicted_TileScan 1 Merged1.jpg\", img)\n",
    "\n",
    "\"\"\"\n",
    "df = pd.DataFrame(list2)\n",
    "df1 = df.rename(columns={0: 'Class Name',1: 'Length', 2: 'Width', 3: 'Area'})\n",
    "df1.to_excel(\"/pfs/stor10/users/home/s/sqbqamar/Public/Fiber_99_tiles/Result_micro/image_3.xlsx\")\n",
    "\"\"\"\n"
   ]
  }
 ],
 "metadata": {
  "kernelspec": {
   "display_name": "Python 3 (ipykernel)",
   "language": "python",
   "name": "python3"
  },
  "language_info": {
   "codemirror_mode": {
    "name": "ipython",
    "version": 3
   },
   "file_extension": ".py",
   "mimetype": "text/x-python",
   "name": "python",
   "nbconvert_exporter": "python",
   "pygments_lexer": "ipython3",
   "version": "3.8.10"
  }
 },
 "nbformat": 4,
 "nbformat_minor": 5
}
